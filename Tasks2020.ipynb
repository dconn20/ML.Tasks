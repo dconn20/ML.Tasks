{
 "cells": [
  {
   "cell_type": "markdown",
   "metadata": {},
   "source": [
    "# Tasks 2020\n",
    "\n",
    "#### Damien Connolly\n",
    "##### G00340321"
   ]
  },
  {
   "cell_type": "markdown",
   "metadata": {},
   "source": [
    "## Task 1 - sqrt2\n",
    "\n",
    "Write a Python function called sqrt2 that calculates and prints to the screen the square root of 2 to 100 decimal places. Your code should not depend on any module from the standard library1 or otherwise. You should research the task first and include references and a description of your algorithm."
   ]
  },
  {
   "cell_type": "markdown",
   "metadata": {},
   "source": [
    "A square root of a number is a value that, when multiplied by itself it gives the original number. The square root of 2 is an irrational number as it cannot be expressed as an integer divided by another interger. Rational numbers are numbers that can be seen as one integer over another. The square root of most numbers is an irrational number with an infinite decimal expansion. As a result, the decimal expansion of any square root can only be computed to finite-precision approximation[1]. Python can be used to calculate the square root of a number in several ways through the use of its many libraries. However the square root can still be calculated without using any of its imported libraries. There are many different methods of computing the square root and at its simplest the square root of 2 can be calculated as one-half to the power of 2, written in mathematics as[2]: \n",
    "                                     \n",
    "                                     EQUATION\n"
   ]
  },
  {
   "cell_type": "code",
   "execution_count": 1,
   "metadata": {},
   "outputs": [
    {
     "data": {
      "text/plain": [
       "1.4142135623730951"
      ]
     },
     "execution_count": 1,
     "metadata": {},
     "output_type": "execute_result"
    }
   ],
   "source": [
    "# Simple function to calculate the square root\n",
    "\n",
    "def sqrt(n): \n",
    "    \n",
    "    ans = n ** (1/2)\n",
    "    return ans\n",
    "    print (\"The square root of the number is\", ans,)\n",
    "    \n",
    "sqrt(2)"
   ]
  },
  {
   "cell_type": "markdown",
   "metadata": {},
   "source": [
    "#### Newtons method\n",
    "\n",
    "Newtons method, which is also known as Newton-Raphson method, is a root finding algorithm that produces successively better approximations of the roots of a real valued function. The algorithm starts with a guess and computes the sequence of improved guesses. This method is often used to quickly calculate the square root of a number but is often problematic when rounding numbers and the same algorithm will often produce two different results on different computers[3]"
   ]
  },
  {
   "cell_type": "code",
   "execution_count": 28,
   "metadata": {},
   "outputs": [
    {
     "data": {
      "text/plain": [
       "1.4142156862745099"
      ]
     },
     "execution_count": 28,
     "metadata": {},
     "output_type": "execute_result"
    }
   ],
   "source": [
    "# Using Newtons method\n",
    "\n",
    "def newtonsmethod(x):\n",
    "    \n",
    "    z = x/2\n",
    "    \n",
    "    while abs(x - (z * z)) > 0.001:\n",
    "        \n",
    "        z -= (z*z - x) / (2*z)\n",
    "        \n",
    "    return (round(z, 100))\n",
    "    \n",
    "\n",
    "newtonsmethod(2)"
   ]
  },
  {
   "cell_type": "markdown",
   "metadata": {},
   "source": [
    "#### Babylonian Method\n",
    "\n",
    "The Babylonian method to find square root is based on the Newton- Raphson method for solving non-linear equations. The idea is simple, starting from an arbitrary value of x, and y as 1, we can simply get next approximation of root by finding the average of x and y. Then the y value will be updated with  number / x [4]. "
   ]
  },
  {
   "cell_type": "code",
   "execution_count": 3,
   "metadata": {},
   "outputs": [
    {
     "data": {
      "text/plain": [
       "1.414213562373095"
      ]
     },
     "execution_count": 3,
     "metadata": {},
     "output_type": "execute_result"
    }
   ],
   "source": [
    "# Example using Babylonian method\n",
    "\n",
    "def BabylonianAlgorithm(number):\n",
    "    if(number == 0):\n",
    "        return 0;\n",
    "\n",
    "    g = number/2.0;\n",
    "    g2 = g + 1;\n",
    "    while(g != g2):\n",
    "        n = number/ g;\n",
    "        g2 = g;\n",
    "        g = (g + n)/2;\n",
    "    return (round(g, 100))\n",
    "\n",
    "\n",
    "BabylonianAlgorithm(2)"
   ]
  },
  {
   "cell_type": "markdown",
   "metadata": {},
   "source": [
    "Both of these methods give us different results as the decimal places get larger and both functions will only allow a certain number of decimal places. We must now get the square root of 2 extended to 100 decimal places. Below is a function that will allow us to do this by calculating the square root of an integer to digits of precision. It works by finding the integer square root of a after multiplying by 10 raised to the 2 x digits. The result must be converted to a string and have the decimal point added at the correct location if it is to be displayed correctly[5]."
   ]
  },
  {
   "cell_type": "code",
   "execution_count": 29,
   "metadata": {},
   "outputs": [
    {
     "name": "stdout",
     "output_type": "stream",
     "text": [
      "1.4142135623730950488016887242096980785696718753769480731766797379907324784621070388503875343276415727\n"
     ]
    }
   ],
   "source": [
    "# Function that calculates and prints to the screen the square root of 2 to 100 decimal places [5].  \n",
    "\n",
    "def sqrt2(a, digits):\n",
    "    a = a * (10**(2*digits))\n",
    "    x_prev = 0\n",
    "    x_next = 1 * (10**digits)\n",
    "    while x_prev != x_next:\n",
    "        x_prev = x_next\n",
    "        x_next = (x_prev + (a // x_prev)) >> 1\n",
    "        x = str(x_next)\n",
    "    print(x[0]+\".\"+x[1:])\n",
    "    \n",
    "sqrt2(2, 100)\n",
    "\n"
   ]
  },
  {
   "cell_type": "code",
   "execution_count": 31,
   "metadata": {},
   "outputs": [
    {
     "name": "stdout",
     "output_type": "stream",
     "text": [
      "2.2360679774997896964091736687312762354406183596115257242708972454105209256378048994144144083787822749\n"
     ]
    }
   ],
   "source": [
    "sqrt2(5, 100)"
   ]
  },
  {
   "cell_type": "code",
   "execution_count": 33,
   "metadata": {},
   "outputs": [
    {
     "name": "stdout",
     "output_type": "stream",
     "text": [
      "4.0000000000000000000000000000000000000000000000000000000000000000000000000000000000000000000000000000\n"
     ]
    }
   ],
   "source": [
    "sqrt2(16, 100)"
   ]
  },
  {
   "cell_type": "markdown",
   "metadata": {},
   "source": [
    "### Ref:\n",
    "\n",
    "[1] https://en.wikipedia.org/wiki/Methods_of_computing_square_roots\n",
    "\n",
    "\n",
    "[2] https://en.wikipedia.org/wiki/Square_root_of_2\n",
    "\n",
    "[3] https://www.math.ubc.ca/~pwalls/math-python/roots-optimization/newton/\n",
    "\n",
    "[4]. https://www.tutorialspoint.com/Babylonian-method-to-find-the-square-root\n",
    "\n",
    "[5]. https://stackoverflow.com/questions/5187664/generating-digits-of-square-root-of-2/5189881#5189881\n",
    "\n",
    "\n",
    "\n",
    "\n",
    "\n",
    "\n",
    "https://tour.golang.org/flowcontrol/8\n",
    "https://www.knowledgehut.com/blog/programming/python-rounding-numbers\n",
    "https://en.wikipedia.org/wiki/Newton%27s_method\n",
    "https://www.w3resource.com/python-exercises/math/python-math-exercise-18.php - Babylonian method\n",
    "https://www.w3resource.com/python-exercises/math/index.php - B.method"
   ]
  },
  {
   "cell_type": "code",
   "execution_count": null,
   "metadata": {},
   "outputs": [],
   "source": []
  }
 ],
 "metadata": {
  "kernelspec": {
   "display_name": "Python 3",
   "language": "python",
   "name": "python3"
  },
  "language_info": {
   "codemirror_mode": {
    "name": "ipython",
    "version": 3
   },
   "file_extension": ".py",
   "mimetype": "text/x-python",
   "name": "python",
   "nbconvert_exporter": "python",
   "pygments_lexer": "ipython3",
   "version": "3.8.3"
  }
 },
 "nbformat": 4,
 "nbformat_minor": 4
}
