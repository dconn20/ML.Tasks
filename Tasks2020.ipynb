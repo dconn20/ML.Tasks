{
 "cells": [
  {
   "cell_type": "markdown",
   "metadata": {},
   "source": [
    "# Tasks 2020\n",
    "\n",
    "#### Damien Connolly\n",
    "##### G00340321"
   ]
  },
  {
   "cell_type": "markdown",
   "metadata": {},
   "source": [
    "## Task 1 - sqrt2\n",
    "\n",
    "Write a Python function called sqrt2 that calculates and prints to the screen the square root of 2 to 100 decimal places. Your code should not depend on any module from the standard library1 or otherwise. You should research the task first and include references and a description of your algorithm."
   ]
  },
  {
   "cell_type": "markdown",
   "metadata": {},
   "source": [
    "A square root of a number is a value that, when multiplied by itself it gives the original number. The square root of 2 is an irrational number as it cannot be expressed as an integer divided by another interger. Rational numbers are numbers that can be seen as one integer over another. The square root of most numbers is an irrational number with an infinite decimal expansion. As a result, the decimal expansion of any square root can only be computed to finite-precision approximation[1]. Python can be used to calculate the square root of a number in several ways through the use of its many libraries. However the square root can still be calculated without using any of its imported libraries. There are many different methods of computing the square root and at its simplest the square root of 2 can be calculated as one-half to the power of 2, written in mathematics as[2]: \n",
    "                                     \n",
    "                                     EQUATION\n"
   ]
  },
  {
   "cell_type": "code",
   "execution_count": 1,
   "metadata": {},
   "outputs": [
    {
     "data": {
      "text/plain": [
       "1.4142135623730951"
      ]
     },
     "execution_count": 1,
     "metadata": {},
     "output_type": "execute_result"
    }
   ],
   "source": [
    "# Simple function to calculate the square root\n",
    "\n",
    "def sqrt(n): \n",
    "    \n",
    "    ans = n ** (1/2)\n",
    "    return ans\n",
    "    print (\"The square root of the number is\", ans,)\n",
    "    \n",
    "sqrt(2)"
   ]
  },
  {
   "cell_type": "markdown",
   "metadata": {},
   "source": [
    "#### Newtons method\n",
    "\n",
    "Newtons method, which is also known as Newton-Raphson method, is a root finding algorithm that produces successively better approximations of the roots of a real valued function. The algorithm starts with a guess and computes the sequence of improved guesses. This method is often used to quickly calculate the square root of a number but is often problematic when rounding numbers and the same algorithm will often produce two different results on different computers[3]"
   ]
  },
  {
   "cell_type": "code",
   "execution_count": 28,
   "metadata": {},
   "outputs": [
    {
     "data": {
      "text/plain": [
       "1.4142156862745099"
      ]
     },
     "execution_count": 28,
     "metadata": {},
     "output_type": "execute_result"
    }
   ],
   "source": [
    "# Using Newtons method\n",
    "\n",
    "def newtonsmethod(x):\n",
    "    \n",
    "    z = x/2\n",
    "    \n",
    "    while abs(x - (z * z)) > 0.001:\n",
    "        \n",
    "        z -= (z*z - x) / (2*z)\n",
    "        \n",
    "    return (round(z, 100))\n",
    "    \n",
    "\n",
    "newtonsmethod(2)"
   ]
  },
  {
   "cell_type": "markdown",
   "metadata": {},
   "source": [
    "#### Babylonian Method\n",
    "\n",
    "The Babylonian method to find square root is based on the Newton- Raphson method for solving non-linear equations. The idea is simple, starting from an arbitrary value of x, and y as 1, we can simply get next approximation of root by finding the average of x and y. Then the y value will be updated with  number / x [4]. "
   ]
  },
  {
   "cell_type": "code",
   "execution_count": 3,
   "metadata": {},
   "outputs": [
    {
     "data": {
      "text/plain": [
       "1.414213562373095"
      ]
     },
     "execution_count": 3,
     "metadata": {},
     "output_type": "execute_result"
    }
   ],
   "source": [
    "# Example using Babylonian method\n",
    "\n",
    "def BabylonianAlgorithm(number):\n",
    "    if(number == 0):\n",
    "        return 0;\n",
    "\n",
    "    g = number/2.0;\n",
    "    g2 = g + 1;\n",
    "    while(g != g2):\n",
    "        n = number/ g;\n",
    "        g2 = g;\n",
    "        g = (g + n)/2;\n",
    "    return (round(g, 100))\n",
    "\n",
    "\n",
    "BabylonianAlgorithm(2)"
   ]
  },
  {
   "cell_type": "markdown",
   "metadata": {},
   "source": [
    "Both of these methods give us different results as the decimal places get larger and both functions will only allow a certain number of decimal places. We must now get the square root of 2 extended to 100 decimal places. Below is a function that will allow us to do this by calculating the square root of an integer to digits of precision. It works by finding the integer square root of a after multiplying by 10 raised to the 2 x digits. The result must be converted to a string and have the decimal point added at the correct location if it is to be displayed correctly[5]."
   ]
  },
  {
   "cell_type": "code",
   "execution_count": 29,
   "metadata": {},
   "outputs": [
    {
     "name": "stdout",
     "output_type": "stream",
     "text": [
      "1.4142135623730950488016887242096980785696718753769480731766797379907324784621070388503875343276415727\n"
     ]
    }
   ],
   "source": [
    "# Function that calculates and prints to the screen the square root of 2 to 100 decimal places [5].  \n",
    "\n",
    "def sqrt2(a, digits):\n",
    "    a = a * (10**(2*digits))\n",
    "    x_prev = 0\n",
    "    x_next = 1 * (10**digits)\n",
    "    while x_prev != x_next:\n",
    "        x_prev = x_next\n",
    "        x_next = (x_prev + (a // x_prev)) >> 1\n",
    "        x = str(x_next)\n",
    "    print(x[0]+\".\"+x[1:])\n",
    "    \n",
    "sqrt2(2, 100)\n",
    "\n"
   ]
  },
  {
   "cell_type": "code",
   "execution_count": 31,
   "metadata": {},
   "outputs": [
    {
     "name": "stdout",
     "output_type": "stream",
     "text": [
      "2.2360679774997896964091736687312762354406183596115257242708972454105209256378048994144144083787822749\n"
     ]
    }
   ],
   "source": [
    "sqrt2(5, 100)"
   ]
  },
  {
   "cell_type": "code",
   "execution_count": 33,
   "metadata": {},
   "outputs": [
    {
     "name": "stdout",
     "output_type": "stream",
     "text": [
      "4.0000000000000000000000000000000000000000000000000000000000000000000000000000000000000000000000000000\n"
     ]
    }
   ],
   "source": [
    "sqrt2(16, 100)"
   ]
  },
  {
   "cell_type": "markdown",
   "metadata": {},
   "source": [
    "### Ref:\n",
    "\n",
    "[1] https://en.wikipedia.org/wiki/Methods_of_computing_square_roots\n",
    "\n",
    "\n",
    "[2] https://en.wikipedia.org/wiki/Square_root_of_2\n",
    "\n",
    "[3] https://www.math.ubc.ca/~pwalls/math-python/roots-optimization/newton/\n",
    "\n",
    "[4]. https://www.tutorialspoint.com/Babylonian-method-to-find-the-square-root\n",
    "\n",
    "[5]. https://stackoverflow.com/questions/5187664/generating-digits-of-square-root-of-2/5189881#5189881\n",
    "\n",
    "\n",
    "\n",
    "\n",
    "\n",
    "\n",
    "https://tour.golang.org/flowcontrol/8\n",
    "https://www.knowledgehut.com/blog/programming/python-rounding-numbers\n",
    "https://en.wikipedia.org/wiki/Newton%27s_method\n",
    "https://www.w3resource.com/python-exercises/math/python-math-exercise-18.php - Babylonian method\n",
    "https://www.w3resource.com/python-exercises/math/index.php - B.method"
   ]
  },
  {
   "cell_type": "markdown",
   "metadata": {},
   "source": [
    "<br/>\n",
    "<br/>\n",
    "\n",
    "## Task 2 - Chi-Squared\n",
    "\n",
    "The Chi-squared test for independence is a statistical hypothesis test like a t-test. It is used to analyse whether two categorical variables are independent. The Wikipedia article gives the table below as an example [4], stating the Chi-squared value based on it is approximately 24.6. Use scipy.stats to verify this value and calculate the associated p value. You should include a short note with references justifying your analysis in a markdown cell."
   ]
  },
  {
   "cell_type": "markdown",
   "metadata": {},
   "source": [
    "Many test statistics are approximately distributed as Chi Square. Two of the more common tests using the Chi Square distribution are the test of independence for data and the goodness of fit for a model. The Chi-Square test of independence is used to determine if there is a significant relationship between two nominal (categorical) variables and the goodness of fit test measures whether there is a difference between the experimental (observed) value and the theoretical (expected) value[1] Chi Square distribution is used as a basis to verify the hypothesis. It has two parameters:\n",
    "\n",
    "       * df - degree of freedom\n",
    "    \n",
    "       * size - Shape of returned array\n",
    "\n",
    "When df independent random variables, each with standard normal distributions (mean 0, variance 1), are squared and summed, the resulting distribution is chi-square.[2]"
   ]
  },
  {
   "cell_type": "code",
   "execution_count": 2,
   "metadata": {},
   "outputs": [
    {
     "name": "stdout",
     "output_type": "stream",
     "text": [
      "Chi2 Stat: 24.5712028585826\n",
      "\n",
      "P-Value: 0.0004098425861096696\n",
      "\n",
      "Degrees of Freedom: 6\n",
      "\n",
      "Contingency Table:\n",
      " [[ 80.53846154  80.53846154 107.38461538  80.53846154]\n",
      " [ 34.84615385  34.84615385  46.46153846  34.84615385]\n",
      " [ 34.61538462  34.61538462  46.15384615  34.61538462]]\n"
     ]
    }
   ],
   "source": [
    "# Verify this value and calculate the associated p value [3]\n",
    "\n",
    "# import packages\n",
    "import numpy as np\n",
    "from scipy import stats\n",
    "\n",
    "# create arrays to store data\n",
    "white_collar = [90, 60, 104, 95]\n",
    "blue_collar = [30, 50, 51, 20]\n",
    "no_collar = [30, 40, 45, 35]\n",
    "\n",
    "data = np.array([white_collar, blue_collar, no_collar])\n",
    "\n",
    "chi2_stat, p_val, dof, ex = stats.chi2_contingency(data)\n",
    "\n",
    "print(f\"Chi2 Stat: {chi2_stat}\\n\")\n",
    "print(f\"P-Value: {p_val}\\n\")\n",
    "print(f\"Degrees of Freedom: {dof}\\n\")\n",
    "print(f\"Contingency Table:\\n {ex}\")"
   ]
  },
  {
   "cell_type": "markdown",
   "metadata": {},
   "source": [
    "#### Ref:\n",
    "\n",
    "[1] http://onlinestatbook.com/2/chi_square/distribution.html\n",
    "\n",
    "[2]  https://docs.scipy.org/doc/numpy-1.15.0/reference/generated/numpy.random.chisquare.html#numpy.random.chisquare\n",
    "\n",
    "[3] https://towardsdatascience.com/running-chi-square-tests-in-python-with-die-roll-data-b9903817c51b"
   ]
  },
  {
   "cell_type": "markdown",
   "metadata": {},
   "source": [
    "<br/>"
   ]
  },
  {
   "cell_type": "markdown",
   "metadata": {},
   "source": [
    "<br/>\n",
    "\n",
    "## Task 3 - Standard Deviation\n",
    "\n",
    "The standard deviation of an array of numbers x is\n",
    "calculated using numpy as np.sqrt(np.sum((x - np.mean(x))**2)/len(x)).\n",
    "However, Microsoft Excel has two different versions of the standard deviation\n",
    "calculation, STDEV.P and STDEV.S . The STDEV.P function performs the above\n",
    "calculation but in the STDEV.S calculation the division is by len(x)-1 rather\n",
    "than len(x) . Research these Excel functions, writing a note in a Markdown cell\n",
    "about the difference between them. Then use numpy to perform a simulation\n",
    "demonstrating that the STDEV.S calculation is a better estimate for the standard\n",
    "deviation of a population when performed on a sample. Note that part of this task\n",
    "is to figure out the terminology in the previous sentence."
   ]
  },
  {
   "cell_type": "markdown",
   "metadata": {},
   "source": [
    "The standard deviation is a measure of the amount of variance or dispersion of a dataset relative to its mean. It is used to evaluate how far the data is spread from the mean of the data sample and it is calculated as the square root of the variance. A high deviation within the data set means the data points are further from the mean, meaning the more spread out the data is then the higher the standard deviation. A low standard deviation indicates that the values tend to be close to the mean[1].\n",
    "\n",
    "STDEV.P and STDEV.S are two microsoft excel functions used to calculate the standard deviation. STDEV.P calculates the standard deviation based on the entire population given as an argument. STDEV.P assumes that its arguments are the entire population so if your data represents a sample of the population then compute the standard deviation using STDEV.S. STDEV.S is used to estimate the standard deviation based on a sample of the population[2].\n",
    "\n",
    "When using the STDEV.P function the squared deviation is divided by the total number of arguments, mostly represented as N.\n",
    "In STDEV.S the squared deviation is divided by the total number of sample -1. It is represented as N-1.\n",
    "\n",
    "To make NumPy's std function behave like Excel's STDEV.S pass in the value ddof=1.(np.std(population, ddof=1)\n",
    "\n",
    "\n"
   ]
  },
  {
   "cell_type": "code",
   "execution_count": 14,
   "metadata": {},
   "outputs": [
    {
     "data": {
      "image/png": "[encoded data removed]",
      "text/plain": [
       "<Figure size 1080x720 with 1 Axes>"
      ]
     },
     "metadata": {},
     "output_type": "display_data"
    }
   ],
   "source": [
    "# Use numpy to perform a simulation demonstrating that the STDEV.S calculation \n",
    "# is a better estimate for the standard deviation of a population when performed on a sample.\n",
    "\n",
    "# import packages to be used\n",
    "import numpy as np\n",
    "import matplotlib.pyplot as plt\n",
    "import pandas as pd\n",
    "import seaborn as sns\n",
    "\n",
    "# Generate a population of random values with a uniform distribution\n",
    "\n",
    "# Set the mean, the standard deviation and population size\n",
    "mean = 50\n",
    "sd = 10\n",
    "size = 1000\n",
    "\n",
    "# Simulate population using numpy\n",
    "population = np.random.normal(mean,sd,size)\n",
    "#population\n",
    "\n",
    "# Display distribution of population\n",
    "figure = plt.hist(population, bins=20)\n",
    "plt.style.use('seaborn-whitegrid')\n",
    "plt.rcParams['figure.figsize'] = (15, 10)\n",
    "plt.title(\"Population Distribution\", fontsize = 15)\n",
    "plt.show()"
   ]
  },
  {
   "cell_type": "code",
   "execution_count": 23,
   "metadata": {},
   "outputs": [
    {
     "data": {
      "text/plain": [
       "9.875553901326482"
      ]
     },
     "execution_count": 23,
     "metadata": {},
     "output_type": "execute_result"
    }
   ],
   "source": [
    "# Calculate the standard deviation using the STDEV.P function (np.sqrt(np.sum((x - np.mean(x))**2)/len(x)))\n",
    "np.sqrt(np.sum((population - np.mean(population))**2)/len(population))"
   ]
  },
  {
   "cell_type": "code",
   "execution_count": 24,
   "metadata": {},
   "outputs": [
    {
     "data": {
      "text/plain": [
       "9.880495384698671"
      ]
     },
     "execution_count": 24,
     "metadata": {},
     "output_type": "execute_result"
    }
   ],
   "source": [
    "# Calculate the standard deviation of the enitre population using STDEV.S method\n",
    "np.std(population, ddof=1)"
   ]
  },
  {
   "cell_type": "code",
   "execution_count": 36,
   "metadata": {},
   "outputs": [
    {
     "data": {
      "text/plain": [
       "9.576467253753322"
      ]
     },
     "execution_count": 36,
     "metadata": {},
     "output_type": "execute_result"
    }
   ],
   "source": [
    "# Calculate the standard deviation using a sample of the population using STDEV.S method\n",
    "\n",
    "# Generate a sample\n",
    "sample = np.random.choice(population, size=500)\n",
    "\n",
    "# Get the standard deviation using STDEV.P method\n",
    "np.sqrt(np.sum((sample - np.mean(sample))**2)/len(sample))"
   ]
  },
  {
   "cell_type": "code",
   "execution_count": 37,
   "metadata": {},
   "outputs": [
    {
     "data": {
      "text/plain": [
       "9.586058109691097"
      ]
     },
     "execution_count": 37,
     "metadata": {},
     "output_type": "execute_result"
    }
   ],
   "source": [
    "# Get the standard deviation using STDEV.S method\n",
    "np.std(sample, ddof=1)"
   ]
  },
  {
   "cell_type": "code",
   "execution_count": 58,
   "metadata": {},
   "outputs": [
    {
     "data": {
      "text/plain": [
       "[[1000,\n",
       "  10,\n",
       "  53.52638958088412,\n",
       "  9.875553901326482,\n",
       "  12.469236434541138,\n",
       "  13.14372927210235],\n",
       " [1000,\n",
       "  25,\n",
       "  51.09154319328899,\n",
       "  9.875553901326482,\n",
       "  11.984556126716557,\n",
       "  12.231686376750625],\n",
       " [1000,\n",
       "  50,\n",
       "  50.497080911913166,\n",
       "  9.875553901326482,\n",
       "  9.646536910912996,\n",
       "  9.744473806675586],\n",
       " [1000,\n",
       "  100,\n",
       "  50.66723183802218,\n",
       "  9.875553901326482,\n",
       "  10.250819226177429,\n",
       "  10.30246095969449],\n",
       " [1000,\n",
       "  200,\n",
       "  49.45852407777705,\n",
       "  9.875553901326482,\n",
       "  9.949242697835576,\n",
       "  9.974209469080746],\n",
       " [1000,\n",
       "  400,\n",
       "  49.345641808093895,\n",
       "  9.875553901326482,\n",
       "  9.65550217309148,\n",
       "  9.667594228140432],\n",
       " [1000,\n",
       "  500,\n",
       "  49.31883936972483,\n",
       "  9.875553901326482,\n",
       "  9.827180763082923,\n",
       "  9.837022709228174],\n",
       " [1000,\n",
       "  600,\n",
       "  49.72974426386211,\n",
       "  9.875553901326482,\n",
       "  9.499001860772518,\n",
       "  9.506927604212942],\n",
       " [1000,\n",
       "  750,\n",
       "  49.66757659965276,\n",
       "  9.875553901326482,\n",
       "  9.836814873856898,\n",
       "  9.843379315611093],\n",
       " [1000,\n",
       "  900,\n",
       "  49.51514125784336,\n",
       "  9.875553901326482,\n",
       "  9.613419158432833,\n",
       "  9.618764401636192]]"
      ]
     },
     "execution_count": 58,
     "metadata": {},
     "output_type": "execute_result"
    }
   ],
   "source": [
    "# Generate multiple samples to compare methods\n",
    "\n",
    "samplesize = [10, 25, 50, 100, 200, 400, 500, 600, 750, 900]\n",
    "sampleresults = []\n",
    "for s in samplesize:\n",
    "    samples =  np.random.choice(population, size=s)\n",
    "    sampleresults.append([size, s, np.mean(samples), np.std(population), np.sqrt(np.sum((samples - np.mean(samples))**2)/len(samples)),\n",
    "                          np.sqrt(np.sum((samples - np.mean(samples))**2)/(len(samples)-1))])\n",
    "\n",
    "sampleresults"
   ]
  },
  {
   "cell_type": "code",
   "execution_count": 60,
   "metadata": {},
   "outputs": [
    {
     "data": {
      "text/html": [
       "<div>\n",
       "<style scoped>\n",
       "    .dataframe tbody tr th:only-of-type {\n",
       "        vertical-align: middle;\n",
       "    }\n",
       "\n",
       "    .dataframe tbody tr th {\n",
       "        vertical-align: top;\n",
       "    }\n",
       "\n",
       "    .dataframe thead th {\n",
       "        text-align: right;\n",
       "    }\n",
       "</style>\n",
       "<table border=\"1\" class=\"dataframe\">\n",
       "  <thead>\n",
       "    <tr style=\"text-align: right;\">\n",
       "      <th></th>\n",
       "      <th>Population</th>\n",
       "      <th>Size of Sample</th>\n",
       "      <th>Mean of sample</th>\n",
       "      <th>Std Population</th>\n",
       "      <th>STDEV.P</th>\n",
       "      <th>STDEV.S</th>\n",
       "      <th>STDEV.P Difference</th>\n",
       "      <th>STDEV.S Difference</th>\n",
       "    </tr>\n",
       "  </thead>\n",
       "  <tbody>\n",
       "    <tr>\n",
       "      <th>0</th>\n",
       "      <td>1000</td>\n",
       "      <td>10</td>\n",
       "      <td>53.526390</td>\n",
       "      <td>9.875554</td>\n",
       "      <td>12.469236</td>\n",
       "      <td>13.143729</td>\n",
       "      <td>0.262637</td>\n",
       "      <td>0.330936</td>\n",
       "    </tr>\n",
       "    <tr>\n",
       "      <th>1</th>\n",
       "      <td>1000</td>\n",
       "      <td>25</td>\n",
       "      <td>51.091543</td>\n",
       "      <td>9.875554</td>\n",
       "      <td>11.984556</td>\n",
       "      <td>12.231686</td>\n",
       "      <td>0.213558</td>\n",
       "      <td>0.238582</td>\n",
       "    </tr>\n",
       "    <tr>\n",
       "      <th>2</th>\n",
       "      <td>1000</td>\n",
       "      <td>50</td>\n",
       "      <td>50.497081</td>\n",
       "      <td>9.875554</td>\n",
       "      <td>9.646537</td>\n",
       "      <td>9.744474</td>\n",
       "      <td>0.023190</td>\n",
       "      <td>0.013273</td>\n",
       "    </tr>\n",
       "    <tr>\n",
       "      <th>3</th>\n",
       "      <td>1000</td>\n",
       "      <td>100</td>\n",
       "      <td>50.667232</td>\n",
       "      <td>9.875554</td>\n",
       "      <td>10.250819</td>\n",
       "      <td>10.302461</td>\n",
       "      <td>0.037999</td>\n",
       "      <td>0.043229</td>\n",
       "    </tr>\n",
       "    <tr>\n",
       "      <th>4</th>\n",
       "      <td>1000</td>\n",
       "      <td>200</td>\n",
       "      <td>49.458524</td>\n",
       "      <td>9.875554</td>\n",
       "      <td>9.949243</td>\n",
       "      <td>9.974209</td>\n",
       "      <td>0.007462</td>\n",
       "      <td>0.009990</td>\n",
       "    </tr>\n",
       "    <tr>\n",
       "      <th>5</th>\n",
       "      <td>1000</td>\n",
       "      <td>400</td>\n",
       "      <td>49.345642</td>\n",
       "      <td>9.875554</td>\n",
       "      <td>9.655502</td>\n",
       "      <td>9.667594</td>\n",
       "      <td>0.022282</td>\n",
       "      <td>0.021058</td>\n",
       "    </tr>\n",
       "    <tr>\n",
       "      <th>6</th>\n",
       "      <td>1000</td>\n",
       "      <td>500</td>\n",
       "      <td>49.318839</td>\n",
       "      <td>9.875554</td>\n",
       "      <td>9.827181</td>\n",
       "      <td>9.837023</td>\n",
       "      <td>0.004898</td>\n",
       "      <td>0.003902</td>\n",
       "    </tr>\n",
       "    <tr>\n",
       "      <th>7</th>\n",
       "      <td>1000</td>\n",
       "      <td>600</td>\n",
       "      <td>49.729744</td>\n",
       "      <td>9.875554</td>\n",
       "      <td>9.499002</td>\n",
       "      <td>9.506928</td>\n",
       "      <td>0.038130</td>\n",
       "      <td>0.037327</td>\n",
       "    </tr>\n",
       "    <tr>\n",
       "      <th>8</th>\n",
       "      <td>1000</td>\n",
       "      <td>750</td>\n",
       "      <td>49.667577</td>\n",
       "      <td>9.875554</td>\n",
       "      <td>9.836815</td>\n",
       "      <td>9.843379</td>\n",
       "      <td>0.003923</td>\n",
       "      <td>0.003258</td>\n",
       "    </tr>\n",
       "    <tr>\n",
       "      <th>9</th>\n",
       "      <td>1000</td>\n",
       "      <td>900</td>\n",
       "      <td>49.515141</td>\n",
       "      <td>9.875554</td>\n",
       "      <td>9.613419</td>\n",
       "      <td>9.618764</td>\n",
       "      <td>0.026544</td>\n",
       "      <td>0.026003</td>\n",
       "    </tr>\n",
       "  </tbody>\n",
       "</table>\n",
       "</div>"
      ],
      "text/plain": [
       "   Population  Size of Sample  Mean of sample  Std Population    STDEV.P  \\\n",
       "0        1000              10       53.526390        9.875554  12.469236   \n",
       "1        1000              25       51.091543        9.875554  11.984556   \n",
       "2        1000              50       50.497081        9.875554   9.646537   \n",
       "3        1000             100       50.667232        9.875554  10.250819   \n",
       "4        1000             200       49.458524        9.875554   9.949243   \n",
       "5        1000             400       49.345642        9.875554   9.655502   \n",
       "6        1000             500       49.318839        9.875554   9.827181   \n",
       "7        1000             600       49.729744        9.875554   9.499002   \n",
       "8        1000             750       49.667577        9.875554   9.836815   \n",
       "9        1000             900       49.515141        9.875554   9.613419   \n",
       "\n",
       "     STDEV.S  STDEV.P Difference  STDEV.S Difference  \n",
       "0  13.143729            0.262637            0.330936  \n",
       "1  12.231686            0.213558            0.238582  \n",
       "2   9.744474            0.023190            0.013273  \n",
       "3  10.302461            0.037999            0.043229  \n",
       "4   9.974209            0.007462            0.009990  \n",
       "5   9.667594            0.022282            0.021058  \n",
       "6   9.837023            0.004898            0.003902  \n",
       "7   9.506928            0.038130            0.037327  \n",
       "8   9.843379            0.003923            0.003258  \n",
       "9   9.618764            0.026544            0.026003  "
      ]
     },
     "execution_count": 60,
     "metadata": {},
     "output_type": "execute_result"
    }
   ],
   "source": [
    "# Use pandas to display reults in a dataframe\n",
    "df = pd.DataFrame(sampleresults, columns=[\"Population\",\"Size of Sample\",\"Mean of sample\",\"Std Population\",\"STDEV.P\",\"STDEV.S\"])\n",
    "\n",
    "# Calculate the difference between standard deviation methods and add to dataframe\n",
    "df['STDEV.P Difference'] = ((df['STDEV.P'] - df['Std Population']).abs())/df['Std Population']\n",
    "df['STDEV.S Difference'] = ((df['STDEV.S'] - df['Std Population']).abs())/df['Std Population']\n",
    "\n",
    "# Display dataframe\n",
    "df"
   ]
  },
  {
   "cell_type": "code",
   "execution_count": 72,
   "metadata": {},
   "outputs": [
    {
     "data": {
      "image/png": "[encoded data removed]",
      "text/plain": [
       "<Figure size 1080x720 with 1 Axes>"
      ]
     },
     "metadata": {},
     "output_type": "display_data"
    }
   ],
   "source": [
    "# Plot the calculations\n",
    "\n",
    "# Customise with rcparams \n",
    "plt.rcParams['figure.figsize'] = (15, 10)\n",
    "plt.rcParams['lines.linewidth'] = 2.5\n",
    "x = ['Size of Sample']\n",
    "\n",
    "# Add the data to be plotted \n",
    "plt.plot(df['STDEV.P'], marker = 'o', markersize = 14, label = 'STDEV.P sample')\n",
    "plt.plot(df['STDEV.S'], marker = 'x', markersize = 14, label = 'STDEV.S sample')\n",
    "plt.plot(df['Std Population'], label = 'Population Standard deviation')\n",
    "\n",
    "# Add labels for the x and y axis and a plot title\n",
    "plt.title(\"Calculations for standard deviation using STDEV.P and STDEV.S\", fontsize = 20)\n",
    "plt.xlabel(\"Size of Sample\", fontsize = 15)\n",
    "plt.ylabel(\"Standard Deviation\", fontsize = 15)\n",
    "\n",
    "# Add a legend and grid to the plot\n",
    "plt.legend()\n",
    "plt.grid()"
   ]
  },
  {
   "cell_type": "markdown",
   "metadata": {},
   "source": [
    "REF:\n",
    "\n",
    "[1]. https://www.investopedia.com/terms/s/standarddeviation.asp\n",
    "\n",
    "[2]. https://support.microsoft.com/en-us/office/stdev-p-function-6e917c05-31a0-496f-ade7-4f4e7462f285\n",
    "\n",
    "[3]. https://support.microsoft.com/en-us/office/stdev-s-function-7d69cf97-0c1f-4acf-be27-f3e83904cc23\n",
    "\n",
    "https://matplotlib.org/tutorials/introductory/customizing.html\n",
    "\n",
    "https://stackoverflow.com/questions/34133939/is-there-any-difference-between-numpy-std-and-excel-stdev-function\n",
    "\n",
    "https://www.khanacademy.org/math/statistics-probability/summarizing-quantitative-data/variance-standard-deviation-population/a/calculating-standard-deviation-step-by-step\n",
    "\n",
    "https://www.exceltip.com/statistical-formulas/how-to-use-stdev-s-function-in-excel.html\n",
    "\n",
    "https://www.exceltip.com/statistical-formulas/how-to-use-excel-stdev-p-function.html\n",
    "\n",
    "https://docs.scipy.org/doc/numpy-1.15.0/reference/generated/numpy.random.choice.html#numpy.random.choice"
   ]
  }
 ],
 "metadata": {
  "kernelspec": {
   "display_name": "Python 3",
   "language": "python",
   "name": "python3"
  },
  "language_info": {
   "codemirror_mode": {
    "name": "ipython",
    "version": 3
   },
   "file_extension": ".py",
   "mimetype": "text/x-python",
   "name": "python",
   "nbconvert_exporter": "python",
   "pygments_lexer": "ipython3",
   "version": "3.8.3"
  }
 },
 "nbformat": 4,
 "nbformat_minor": 4
}
